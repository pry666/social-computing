{
 "cells": [
  {
   "cell_type": "markdown",
   "metadata": {},
   "source": [
    "# 因为Access_key不能传到github上，所以直接从users和github_log表开始"
   ]
  },
  {
   "cell_type": "code",
   "execution_count": 11,
   "metadata": {},
   "outputs": [
    {
     "name": "stdout",
     "output_type": "stream",
     "text": [
      "odps.Schema {\n",
      "  login                     string        \n",
      "  created_at                date          \n",
      "  database_id               int64         \n",
      "  location                  string        \n",
      "  company                   string        \n",
      "  bio                       string        \n",
      "  is_employee               boolean       \n",
      "  email                     string        \n",
      "  infoname                  string        \n",
      "  followers                 string        \n",
      "  following                 string        \n",
      "  time                      date          \n",
      "  name                      string        \n",
      "  lastupdatedat             date          \n",
      "  nextupdateat              date          \n",
      "}\n",
      "\n",
      "odps.Schema {\n",
      "  id                                                                          string                  \n",
      "  type                                                                        string                  \n",
      "  action                                                                      string                  \n",
      "  actor_id                                                                    int64                   \n",
      "  actor_login                                                                 string                  \n",
      "  repo_id                                                                     int64                   \n",
      "  repo_name                                                                   string                  \n",
      "  org_id                                                                      int64                   \n",
      "  org_login                                                                   string                  \n",
      "  created_at                                                                  datetime                \n",
      "  issue_id                                                                    int64                   \n",
      "  issue_number                                                                int32                   \n",
      "  issue_title                                                                 string                  \n",
      "  issue_body                                                                  string                  \n",
      "  issue_labels_name                                                           list<string>            \n",
      "  issue_labels_color                                                          list<string>            \n",
      "  issue_labels_default                                                        list<string>            \n",
      "  issue_labels_description                                                    list<string>            \n",
      "  issue_author_id                                                             int64                   \n",
      "  issue_author_login                                                          string                  \n",
      "  issue_author_type                                                           string                  \n",
      "  issue_author_association                                                    string                  \n",
      "  issue_assignee_id                                                           int64                   \n",
      "  issue_assignee_login                                                        string                  \n",
      "  issue_assignees_id                                                          list<string>            \n",
      "  issue_assignees_login                                                       list<string>            \n",
      "  issue_created_at                                                            datetime                \n",
      "  issue_updated_at                                                            datetime                \n",
      "  issue_comments                                                              int16                   \n",
      "  issue_closed_at                                                             datetime                \n",
      "  issue_comment_id                                                            int64                   \n",
      "  issue_comment_body                                                          string                  \n",
      "  issue_comment_created_at                                                    datetime                \n",
      "  issue_comment_updated_at                                                    datetime                \n",
      "  issue_comment_author_association                                            string                  \n",
      "  issue_comment_author_id                                                     int64                   \n",
      "  issue_comment_author_login                                                  string                  \n",
      "  issue_comment_author_type                                                   string                  \n",
      "  pull_commits                                                                int16                   \n",
      "  pull_additions                                                              int16                   \n",
      "  pull_deletions                                                              int16                   \n",
      "  pull_changed_files                                                          int32                   \n",
      "  pull_merged                                                                 int8                    \n",
      "  pull_merge_commit_sha                                                       string                  \n",
      "  pull_merged_at                                                              datetime                \n",
      "  pull_merged_by_id                                                           int64                   \n",
      "  pull_merged_by_login                                                        string                  \n",
      "  pull_merged_by_type                                                         string                  \n",
      "  pull_requested_reviewer_id                                                  int64                   \n",
      "  pull_requested_reviewer_login                                               string                  \n",
      "  pull_requested_reviewer_type                                                string                  \n",
      "  pull_review_comments                                                        int16                   \n",
      "  repo_description                                                            string                  \n",
      "  repo_size                                                                   int32                   \n",
      "  repo_stargazers_count                                                       int32                   \n",
      "  repo_forks_count                                                            int32                   \n",
      "  repo_language                                                               string                  \n",
      "  repo_has_issues                                                             int8                    \n",
      "  repo_has_projects                                                           int8                    \n",
      "  repo_has_downloads                                                          int8                    \n",
      "  repo_has_wiki                                                               int8                    \n",
      "  repo_has_pages                                                              int8                    \n",
      "  repo_license                                                                string                  \n",
      "  repo_default_branch                                                         string                  \n",
      "  repo_created_at                                                             datetime                \n",
      "  repo_updated_at                                                             datetime                \n",
      "  repo_pushed_at                                                              datetime                \n",
      "  pull_review_id                                                              int64                   \n",
      "  pull_review_comment_id                                                      int64                   \n",
      "  pull_review_comment_path                                                    string                  \n",
      "  pull_review_comment_position                                                string                  \n",
      "  pull_review_comment_author_id                                               int64                   \n",
      "  pull_review_comment_author_login                                            string                  \n",
      "  pull_review_comment_author_type                                             string                  \n",
      "  pull_review_comment_author_association                                      string                  \n",
      "  pull_review_comment_body                                                    string                  \n",
      "  pull_review_comment_created_at                                              datetime                \n",
      "  pull_review_comment_updated_at                                              datetime                \n",
      "  push_id                                                                     int64                   \n",
      "  push_size                                                                   int32                   \n",
      "  push_distinct_size                                                          int32                   \n",
      "  push_ref                                                                    string                  \n",
      "  push_head                                                                   string                  \n",
      "  push_before                                                                 string                  \n",
      "  push_commits_name                                                           list<string>            \n",
      "  push_commits_email                                                          list<string>            \n",
      "  push_commits_message                                                        list<string>            \n",
      "  fork_forkee_id                                                              int64                   \n",
      "  fork_forkee_full_name                                                       string                  \n",
      "  fork_forkee_owner_id                                                        int64                   \n",
      "  fork_forkee_owner_login                                                     string                  \n",
      "  fork_forkee_owner_type                                                      string                  \n",
      "  delete_ref                                                                  string                  \n",
      "  delete_ref_type                                                             string                  \n",
      "  delete_pusher_type                                                          string                  \n",
      "  create_ref                                                                  string                  \n",
      "  create_ref_type                                                             string                  \n",
      "  create_master_branch                                                        string                  \n",
      "  create_description                                                          string                  \n",
      "  create_pusher_type                                                          string                  \n",
      "  gollum_pages_page_name                                                      list<string>            \n",
      "  gollum_pages_title                                                          list<string>            \n",
      "  gollum_pages_action                                                         list<string>            \n",
      "  member_login                                                                string                  \n",
      "  member_type                                                                 string                  \n",
      "  member_id                                                                   int64                   \n",
      "  release_id                                                                  int64                   \n",
      "  release_tag_name                                                            string                  \n",
      "  release_target_commitish                                                    string                  \n",
      "  release_name                                                                string                  \n",
      "  release_draft                                                               int8                    \n",
      "  release_author_id                                                           int64                   \n",
      "  release_author_login                                                        string                  \n",
      "  release_author_type                                                         string                  \n",
      "  release_prerelease                                                          int8                    \n",
      "  release_created_at                                                          datetime                \n",
      "  release_published_at                                                        datetime                \n",
      "  release_body                                                                string                  \n",
      "  release_assets_name                                                         list<string>            \n",
      "  release_assets_uploader_login                                               list<string>            \n",
      "  release_assets_uploader_id                                                  list<string>            \n",
      "  release_assets_content_type                                                 list<string>            \n",
      "  release_assets_state                                                        list<string>            \n",
      "  release_assets_size                                                         list<string>            \n",
      "  release_assets_download_count                                               list<string>            \n",
      "  commit_comment_id                                                           int64                   \n",
      "  commit_comment_author_id                                                    int64                   \n",
      "  commit_comment_author_login                                                 string                  \n",
      "  commit_comment_author_type                                                  string                  \n",
      "  commit_comment_author_association                                           string                  \n",
      "  commit_comment_body                                                         string                  \n",
      "  commit_comment_path                                                         string                  \n",
      "  commit_comment_position                                                     string                  \n",
      "  commit_comment_line                                                         string                  \n",
      "  commit_comment_created_at                                                   datetime                \n",
      "  commit_comment_updated_at                                                   datetime                \n",
      "  pt                                                                          string                  \n",
      "}\n",
      "\n"
     ]
    }
   ],
   "source": [
    "users = DataFrame(o.get_table('ods_github_users'))\r\n",
    "print(users.dtypes)\r\n",
    "\r\n",
    "github_log = DataFrame(o.get_table('ods_github_log'))\r\n",
    "print(github_log.dtypes)"
   ]
  },
  {
   "cell_type": "markdown",
   "metadata": {},
   "source": [
    "## 查看两个表的前5行的信息"
   ]
  },
  {
   "cell_type": "code",
   "execution_count": 14,
   "metadata": {},
   "outputs": [
    {
     "data": {
      "text/html": "<div>\n<style scoped>\n    .dataframe tbody tr th:only-of-type {\n        vertical-align: middle;\n    }\n\n    .dataframe tbody tr th {\n        vertical-align: top;\n    }\n\n    .dataframe thead th {\n        text-align: right;\n    }\n</style>\n<table border=\"1\" class=\"dataframe\">\n  <thead>\n    <tr style=\"text-align: right;\">\n      <th></th>\n      <th>login</th>\n      <th>created_at</th>\n      <th>database_id</th>\n      <th>location</th>\n      <th>company</th>\n      <th>bio</th>\n      <th>is_employee</th>\n      <th>email</th>\n      <th>infoname</th>\n      <th>followers</th>\n      <th>following</th>\n      <th>time</th>\n      <th>name</th>\n      <th>lastupdatedat</th>\n      <th>nextupdateat</th>\n    </tr>\n  </thead>\n  <tbody>\n    <tr>\n      <th>0</th>\n      <td>LombiqBot</td>\n      <td>2014-08-21</td>\n      <td>8517910</td>\n      <td>Budapest, Hungary</td>\n      <td>Lombiq Technologies Ltd.</td>\n      <td>I'm a friendly robot that can also pass the Tu...</td>\n      <td>False</td>\n      <td>bot@lombiq.com</td>\n      <td>Lombiq Bot</td>\n      <td>50567111,61306948,60854565,57724193,55095689,5...</td>\n      <td>None</td>\n      <td>2021-11-22</td>\n      <td>LombiqBot</td>\n      <td>2022-01-25</td>\n      <td>2022-02-24</td>\n    </tr>\n    <tr>\n      <th>1</th>\n      <td>LombiqBot</td>\n      <td>2014-08-21</td>\n      <td>8517910</td>\n      <td>Budapest, Hungary</td>\n      <td>Lombiq Technologies Ltd.</td>\n      <td>I'm a friendly robot that can also pass the Tu...</td>\n      <td>False</td>\n      <td>bot@lombiq.com</td>\n      <td>Lombiq Bot</td>\n      <td>50567111,61306948,60854565,57724193,55095689,5...</td>\n      <td>None</td>\n      <td>2021-12-23</td>\n      <td>LombiqBot</td>\n      <td>2022-01-25</td>\n      <td>2022-02-24</td>\n    </tr>\n    <tr>\n      <th>2</th>\n      <td>LombiqBot</td>\n      <td>2014-08-21</td>\n      <td>8517910</td>\n      <td>Budapest, Hungary</td>\n      <td>Lombiq Technologies Ltd.</td>\n      <td>I'm a friendly robot that can also pass the Tu...</td>\n      <td>False</td>\n      <td>bot@lombiq.com</td>\n      <td>Lombiq Bot</td>\n      <td>50567111,61306948,60854565,57724193,55095689,5...</td>\n      <td>None</td>\n      <td>2022-01-25</td>\n      <td>LombiqBot</td>\n      <td>2022-01-25</td>\n      <td>2022-02-24</td>\n    </tr>\n    <tr>\n      <th>3</th>\n      <td>direwolf-github</td>\n      <td>2015-02-02</td>\n      <td>10810283</td>\n      <td>None</td>\n      <td>None</td>\n      <td>None</td>\n      <td>False</td>\n      <td></td>\n      <td>None</td>\n      <td>57059290,35817050,56658371,45868471</td>\n      <td>None</td>\n      <td>2021-11-18</td>\n      <td>direwolf-github</td>\n      <td>2022-01-20</td>\n      <td>2022-02-19</td>\n    </tr>\n    <tr>\n      <th>4</th>\n      <td>direwolf-github</td>\n      <td>2015-02-02</td>\n      <td>10810283</td>\n      <td>None</td>\n      <td>None</td>\n      <td>None</td>\n      <td>False</td>\n      <td></td>\n      <td>None</td>\n      <td>57059290,35817050,56658371,45868471</td>\n      <td>None</td>\n      <td>2021-12-20</td>\n      <td>direwolf-github</td>\n      <td>2022-01-20</td>\n      <td>2022-02-19</td>\n    </tr>\n  </tbody>\n</table>\n</div>",
      "text/plain": "             login  created_at  database_id           location  \\\n0        LombiqBot  2014-08-21      8517910  Budapest, Hungary   \n1        LombiqBot  2014-08-21      8517910  Budapest, Hungary   \n2        LombiqBot  2014-08-21      8517910  Budapest, Hungary   \n3  direwolf-github  2015-02-02     10810283               None   \n4  direwolf-github  2015-02-02     10810283               None   \n\n                    company  \\\n0  Lombiq Technologies Ltd.   \n1  Lombiq Technologies Ltd.   \n2  Lombiq Technologies Ltd.   \n3                      None   \n4                      None   \n\n                                                 bio  is_employee  \\\n0  I'm a friendly robot that can also pass the Tu...        False   \n1  I'm a friendly robot that can also pass the Tu...        False   \n2  I'm a friendly robot that can also pass the Tu...        False   \n3                                               None        False   \n4                                               None        False   \n\n            email    infoname  \\\n0  bot@lombiq.com  Lombiq Bot   \n1  bot@lombiq.com  Lombiq Bot   \n2  bot@lombiq.com  Lombiq Bot   \n3                        None   \n4                        None   \n\n                                           followers following        time  \\\n0  50567111,61306948,60854565,57724193,55095689,5...      None  2021-11-22   \n1  50567111,61306948,60854565,57724193,55095689,5...      None  2021-12-23   \n2  50567111,61306948,60854565,57724193,55095689,5...      None  2022-01-25   \n3                57059290,35817050,56658371,45868471      None  2021-11-18   \n4                57059290,35817050,56658371,45868471      None  2021-12-20   \n\n              name lastupdatedat nextupdateat  \n0        LombiqBot    2022-01-25   2022-02-24  \n1        LombiqBot    2022-01-25   2022-02-24  \n2        LombiqBot    2022-01-25   2022-02-24  \n3  direwolf-github    2022-01-20   2022-02-19  \n4  direwolf-github    2022-01-20   2022-02-19  "
     },
     "execution_count": 14,
     "metadata": {},
     "output_type": "execute_result"
    }
   ],
   "source": [
    "users.head(5)"
   ]
  },
  {
   "cell_type": "code",
   "execution_count": 16,
   "metadata": {},
   "outputs": [
    {
     "data": {
      "text/html": "<div>\n<style scoped>\n    .dataframe tbody tr th:only-of-type {\n        vertical-align: middle;\n    }\n\n    .dataframe tbody tr th {\n        vertical-align: top;\n    }\n\n    .dataframe thead th {\n        text-align: right;\n    }\n</style>\n<table border=\"1\" class=\"dataframe\">\n  <thead>\n    <tr style=\"text-align: right;\">\n      <th></th>\n      <th>id</th>\n      <th>type</th>\n      <th>action</th>\n      <th>actor_id</th>\n      <th>actor_login</th>\n      <th>repo_id</th>\n      <th>repo_name</th>\n      <th>org_id</th>\n      <th>org_login</th>\n      <th>created_at</th>\n      <th>...</th>\n      <th>commit_comment_author_login</th>\n      <th>commit_comment_author_type</th>\n      <th>commit_comment_author_association</th>\n      <th>commit_comment_body</th>\n      <th>commit_comment_path</th>\n      <th>commit_comment_position</th>\n      <th>commit_comment_line</th>\n      <th>commit_comment_created_at</th>\n      <th>commit_comment_updated_at</th>\n      <th>pt</th>\n    </tr>\n  </thead>\n  <tbody>\n    <tr>\n      <th>0</th>\n      <td>2511623267</td>\n      <td>CreateEvent</td>\n      <td></td>\n      <td>4560264</td>\n      <td>marcy-terui</td>\n      <td>29237728</td>\n      <td>marcy-go/kclsample</td>\n      <td>10529128</td>\n      <td>marcy-go</td>\n      <td>2015-01-14 17:49:01</td>\n      <td>...</td>\n      <td></td>\n      <td></td>\n      <td></td>\n      <td></td>\n      <td></td>\n      <td></td>\n      <td></td>\n      <td>1970-01-01 08:00:00</td>\n      <td>1970-01-01 08:00:00</td>\n      <td>20150101</td>\n    </tr>\n  </tbody>\n</table>\n<p>1 rows × 137 columns</p>\n</div>",
      "text/plain": "           id         type action  actor_id  actor_login   repo_id  \\\n0  2511623267  CreateEvent          4560264  marcy-terui  29237728   \n\n            repo_name    org_id org_login          created_at  ...  \\\n0  marcy-go/kclsample  10529128  marcy-go 2015-01-14 17:49:01  ...   \n\n   commit_comment_author_login  commit_comment_author_type  \\\n0                                                            \n\n  commit_comment_author_association commit_comment_body commit_comment_path  \\\n0                                                                             \n\n  commit_comment_position commit_comment_line commit_comment_created_at  \\\n0                                                   1970-01-01 08:00:00   \n\n   commit_comment_updated_at        pt  \n0        1970-01-01 08:00:00  20150101  \n\n[1 rows x 137 columns]"
     },
     "execution_count": 16,
     "metadata": {},
     "output_type": "execute_result"
    }
   ],
   "source": [
    "github_log.head(1)"
   ]
  }
 ],
 "metadata": {
  "kernelspec": {
   "display_name": "Python 3.8.8 64-bit (virtualenv)",
   "name": "python388jvsc74a57bd0a8f61be024eba58adef938c9aa1e29e02cb3dece83a5348b1a2dafd16a070453"
  },
  "language_info": {
   "codemirror_mode": {
    "name": "ipython",
    "version": 3
   },
   "file_extension": ".py",
   "mimetype": "text/x-python",
   "name": "python",
   "nbconvert_exporter": "python",
   "pygments_lexer": "ipython3",
   "version": "3.8.8"
  },
  "orig_nbformat": 2
 },
 "nbformat": 4,
 "nbformat_minor": 2
}