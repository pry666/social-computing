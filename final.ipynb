{
 "cells": [
  {
   "cell_type": "markdown",
   "metadata": {},
   "source": [
    "# 因为Access_key不能传到github上，所以直接从users和github_log表开始"
   ]
  },
  {
   "cell_type": "code",
   "execution_count": 10,
   "metadata": {},
   "outputs": [
    {
     "name": "stdout",
     "output_type": "stream",
     "text": [
      "odps.Schema {\n",
      "  login                     string        \n",
      "  created_at                date          \n",
      "  database_id               int64         \n",
      "  location                  string        \n",
      "  company                   string        \n",
      "  bio                       string        \n",
      "  is_employee               boolean       \n",
      "  email                     string        \n",
      "  infoname                  string        \n",
      "  followers                 string        \n",
      "  following                 string        \n",
      "  time                      date          \n",
      "  name                      string        \n",
      "  lastupdatedat             date          \n",
      "  nextupdateat              date          \n",
      "}\n",
      "\n",
      "odps.Schema {\n",
      "  id                                                                          string                  \n",
      "  type                                                                        string                  \n",
      "  action                                                                      string                  \n",
      "  actor_id                                                                    int64                   \n",
      "  actor_login                                                                 string                  \n",
      "  repo_id                                                                     int64                   \n",
      "  repo_name                                                                   string                  \n",
      "  org_id                                                                      int64                   \n",
      "  org_login                                                                   string                  \n",
      "  created_at                                                                  datetime                \n",
      "  issue_id                                                                    int64                   \n",
      "  issue_number                                                                int32                   \n",
      "  issue_title                                                                 string                  \n",
      "  issue_body                                                                  string                  \n",
      "  issue_labels_name                                                           list<string>            \n",
      "  issue_labels_color                                                          list<string>            \n",
      "  issue_labels_default                                                        list<string>            \n",
      "  issue_labels_description                                                    list<string>            \n",
      "  issue_author_id                                                             int64                   \n",
      "  issue_author_login                                                          string                  \n",
      "  issue_author_type                                                           string                  \n",
      "  issue_author_association                                                    string                  \n",
      "  issue_assignee_id                                                           int64                   \n",
      "  issue_assignee_login                                                        string                  \n",
      "  issue_assignees_id                                                          list<string>            \n",
      "  issue_assignees_login                                                       list<string>            \n",
      "  issue_created_at                                                            datetime                \n",
      "  issue_updated_at                                                            datetime                \n",
      "  issue_comments                                                              int16                   \n",
      "  issue_closed_at                                                             datetime                \n",
      "  issue_comment_id                                                            int64                   \n",
      "  issue_comment_body                                                          string                  \n",
      "  issue_comment_created_at                                                    datetime                \n",
      "  issue_comment_updated_at                                                    datetime                \n",
      "  issue_comment_author_association                                            string                  \n",
      "  issue_comment_author_id                                                     int64                   \n",
      "  issue_comment_author_login                                                  string                  \n",
      "  issue_comment_author_type                                                   string                  \n",
      "  pull_commits                                                                int16                   \n",
      "  pull_additions                                                              int16                   \n",
      "  pull_deletions                                                              int16                   \n",
      "  pull_changed_files                                                          int32                   \n",
      "  pull_merged                                                                 int8                    \n",
      "  pull_merge_commit_sha                                                       string                  \n",
      "  pull_merged_at                                                              datetime                \n",
      "  pull_merged_by_id                                                           int64                   \n",
      "  pull_merged_by_login                                                        string                  \n",
      "  pull_merged_by_type                                                         string                  \n",
      "  pull_requested_reviewer_id                                                  int64                   \n",
      "  pull_requested_reviewer_login                                               string                  \n",
      "  pull_requested_reviewer_type                                                string                  \n",
      "  pull_review_comments                                                        int16                   \n",
      "  repo_description                                                            string                  \n",
      "  repo_size                                                                   int32                   \n",
      "  repo_stargazers_count                                                       int32                   \n",
      "  repo_forks_count                                                            int32                   \n",
      "  repo_language                                                               string                  \n",
      "  repo_has_issues                                                             int8                    \n",
      "  repo_has_projects                                                           int8                    \n",
      "  repo_has_downloads                                                          int8                    \n",
      "  repo_has_wiki                                                               int8                    \n",
      "  repo_has_pages                                                              int8                    \n",
      "  repo_license                                                                string                  \n",
      "  repo_default_branch                                                         string                  \n",
      "  repo_created_at                                                             datetime                \n",
      "  repo_updated_at                                                             datetime                \n",
      "  repo_pushed_at                                                              datetime                \n",
      "  pull_review_id                                                              int64                   \n",
      "  pull_review_comment_id                                                      int64                   \n",
      "  pull_review_comment_path                                                    string                  \n",
      "  pull_review_comment_position                                                string                  \n",
      "  pull_review_comment_author_id                                               int64                   \n",
      "  pull_review_comment_author_login                                            string                  \n",
      "  pull_review_comment_author_type                                             string                  \n",
      "  pull_review_comment_author_association                                      string                  \n",
      "  pull_review_comment_body                                                    string                  \n",
      "  pull_review_comment_created_at                                              datetime                \n",
      "  pull_review_comment_updated_at                                              datetime                \n",
      "  push_id                                                                     int64                   \n",
      "  push_size                                                                   int32                   \n",
      "  push_distinct_size                                                          int32                   \n",
      "  push_ref                                                                    string                  \n",
      "  push_head                                                                   string                  \n",
      "  push_before                                                                 string                  \n",
      "  push_commits_name                                                           list<string>            \n",
      "  push_commits_email                                                          list<string>            \n",
      "  push_commits_message                                                        list<string>            \n",
      "  fork_forkee_id                                                              int64                   \n",
      "  fork_forkee_full_name                                                       string                  \n",
      "  fork_forkee_owner_id                                                        int64                   \n",
      "  fork_forkee_owner_login                                                     string                  \n",
      "  fork_forkee_owner_type                                                      string                  \n",
      "  delete_ref                                                                  string                  \n",
      "  delete_ref_type                                                             string                  \n",
      "  delete_pusher_type                                                          string                  \n",
      "  create_ref                                                                  string                  \n",
      "  create_ref_type                                                             string                  \n",
      "  create_master_branch                                                        string                  \n",
      "  create_description                                                          string                  \n",
      "  create_pusher_type                                                          string                  \n",
      "  gollum_pages_page_name                                                      list<string>            \n",
      "  gollum_pages_title                                                          list<string>            \n",
      "  gollum_pages_action                                                         list<string>            \n",
      "  member_login                                                                string                  \n",
      "  member_type                                                                 string                  \n",
      "  member_id                                                                   int64                   \n",
      "  release_id                                                                  int64                   \n",
      "  release_tag_name                                                            string                  \n",
      "  release_target_commitish                                                    string                  \n",
      "  release_name                                                                string                  \n",
      "  release_draft                                                               int8                    \n",
      "  release_author_id                                                           int64                   \n",
      "  release_author_login                                                        string                  \n",
      "  release_author_type                                                         string                  \n",
      "  release_prerelease                                                          int8                    \n",
      "  release_created_at                                                          datetime                \n",
      "  release_published_at                                                        datetime                \n",
      "  release_body                                                                string                  \n",
      "  release_assets_name                                                         list<string>            \n",
      "  release_assets_uploader_login                                               list<string>            \n",
      "  release_assets_uploader_id                                                  list<string>            \n",
      "  release_assets_content_type                                                 list<string>            \n",
      "  release_assets_state                                                        list<string>            \n",
      "  release_assets_size                                                         list<string>            \n",
      "  release_assets_download_count                                               list<string>            \n",
      "  commit_comment_id                                                           int64                   \n",
      "  commit_comment_author_id                                                    int64                   \n",
      "  commit_comment_author_login                                                 string                  \n",
      "  commit_comment_author_type                                                  string                  \n",
      "  commit_comment_author_association                                           string                  \n",
      "  commit_comment_body                                                         string                  \n",
      "  commit_comment_path                                                         string                  \n",
      "  commit_comment_position                                                     string                  \n",
      "  commit_comment_line                                                         string                  \n",
      "  commit_comment_created_at                                                   datetime                \n",
      "  commit_comment_updated_at                                                   datetime                \n",
      "  pt                                                                          string                  \n",
      "}\n",
      "\n"
     ]
    }
   ],
   "source": [
    "users = DataFrame(o.get_table('ods_github_users'))\r\n",
    "print(users.dtypes)\r\n",
    "\r\n",
    "github_log = DataFrame(o.get_table('ods_github_log'))\r\n",
    "print(github_log.dtypes)"
   ]
  },
  {
   "cell_type": "markdown",
   "metadata": {},
   "source": [
    "## 查看两个表的前5行的信息"
   ]
  },
  {
   "cell_type": "code",
   "execution_count": 72,
   "metadata": {},
   "outputs": [],
   "source": [
    "name = []\r\n",
    "message = []\r\n",
    "botjc = []\r\n",
    "botlc = []\r\n",
    "humanjc = []\r\n",
    "humanlc = []"
   ]
  },
  {
   "cell_type": "code",
   "execution_count": 73,
   "metadata": {},
   "outputs": [],
   "source": [
    "with o.execute_sql('select distinct push_commits_name,push_commits_message from ods_github_log where repo_name = \\'dependabot/elixir-security-advisories\\' and pt == \\'20210701\\'').open_reader(tunnel = True) as reader:\r\n",
    "    for record in reader:\r\n",
    "        name.append(record[0])\r\n",
    "        message.append(record[1])"
   ]
  },
  {
   "cell_type": "code",
   "execution_count": 74,
   "metadata": {},
   "outputs": [
    {
     "data": {
      "text/plain": "[['dependabot[bot]', 'Grey Baker'], ['dependabot[bot]', 'Grey Baker']]"
     },
     "execution_count": 74,
     "metadata": {},
     "output_type": "execute_result"
    }
   ],
   "source": [
    "name = [x for x in name if x]\r\n",
    "name"
   ]
  },
  {
   "cell_type": "code",
   "execution_count": 75,
   "metadata": {},
   "outputs": [
    {
     "data": {
      "text/plain": "[['Bump rake from 13.0.3 to 13.0.4\\n\\nBumps [rake](https://github.com/ruby/rake) from 13.0.3 to 13.0.4.\\n- [Release notes](https://github.com/ruby/rake/releases)\\n- [Changelog](https://github.com/ruby/rake/blob/master/History.rdoc)\\n- [Commits](https://github.com/ruby/rake/compare/v13.0.3...v13.0.4)\\n\\n---\\nupdated-dependencies:\\n- dependency-name: rake\\n  dependency-type: direct:production\\n  update-type: version-update:semver-patch\\n...\\n\\nSigned-off-by: dependabot[bot] <support@github.com>',\n  'Merge pull request #29 from dependabot/dependabot/bundler/rake-13.0.4\\n\\nBump rake from 13.0.3 to 13.0.4'],\n ['Bump rake from 13.0.4 to 13.0.6\\n\\nBumps [rake](https://github.com/ruby/rake) from 13.0.4 to 13.0.6.\\n- [Release notes](https://github.com/ruby/rake/releases)\\n- [Changelog](https://github.com/ruby/rake/blob/master/History.rdoc)\\n- [Commits](https://github.com/ruby/rake/compare/v13.0.4...v13.0.6)\\n\\n---\\nupdated-dependencies:\\n- dependency-name: rake\\n  dependency-type: direct:production\\n  update-type: version-update:semver-patch\\n...\\n\\nSigned-off-by: dependabot[bot] <support@github.com>',\n  'Merge pull request #30 from dependabot/dependabot/bundler/rake-13.0.6\\n\\nBump rake from 13.0.4 to 13.0.6']]"
     },
     "execution_count": 75,
     "metadata": {},
     "output_type": "execute_result"
    }
   ],
   "source": [
    "message = [x for x in message if x]\r\n",
    "message"
   ]
  },
  {
   "cell_type": "code",
   "execution_count": 76,
   "metadata": {},
   "outputs": [],
   "source": [
    "b1 = message[0][0]\r\n",
    "b2 = message[1][0]"
   ]
  },
  {
   "cell_type": "code",
   "execution_count": 77,
   "metadata": {},
   "outputs": [
    {
     "data": {
      "text/plain": "'Bump rake from 13.0.3 to 13.0.4\\n\\nBumps [rake](https://github.com/ruby/rake) from 13.0.3 to 13.0.4.\\n- [Release notes](https://github.com/ruby/rake/releases)\\n- [Changelog](https://github.com/ruby/rake/blob/master/History.rdoc)\\n- [Commits](https://github.com/ruby/rake/compare/v13.0.3...v13.0.4)\\n\\n---\\nupdated-dependencies:\\n- dependency-name: rake\\n  dependency-type: direct:production\\n  update-type: version-update:semver-patch\\n...\\n\\nSigned-off-by: dependabot[bot] <support@github.com>'"
     },
     "execution_count": 77,
     "metadata": {},
     "output_type": "execute_result"
    }
   ],
   "source": [
    "b1"
   ]
  },
  {
   "cell_type": "code",
   "execution_count": 78,
   "metadata": {},
   "outputs": [
    {
     "data": {
      "text/plain": "'Bump rake from 13.0.4 to 13.0.6\\n\\nBumps [rake](https://github.com/ruby/rake) from 13.0.4 to 13.0.6.\\n- [Release notes](https://github.com/ruby/rake/releases)\\n- [Changelog](https://github.com/ruby/rake/blob/master/History.rdoc)\\n- [Commits](https://github.com/ruby/rake/compare/v13.0.4...v13.0.6)\\n\\n---\\nupdated-dependencies:\\n- dependency-name: rake\\n  dependency-type: direct:production\\n  update-type: version-update:semver-patch\\n...\\n\\nSigned-off-by: dependabot[bot] <support@github.com>'"
     },
     "execution_count": 78,
     "metadata": {},
     "output_type": "execute_result"
    }
   ],
   "source": [
    "b2"
   ]
  },
  {
   "cell_type": "code",
   "execution_count": 11,
   "metadata": {},
   "outputs": [],
   "source": [
    "def jeccard(sen1,sen2):\r\n",
    "    set1 = set(sen1.split(\" \"))\r\n",
    "    set2 = set(sen2.split(\" \"))\r\n",
    "    unionset = set1 | set2\r\n",
    "    disset = set1 & set2\r\n",
    "    return (1 - len(disset)/len(unionset))"
   ]
  },
  {
   "cell_type": "code",
   "execution_count": 12,
   "metadata": {},
   "outputs": [],
   "source": [
    "import Levenshtein\r\n",
    "\r\n",
    "def levendis(sen1,sen2):\r\n",
    "    return Levenshtein.distance(sen1,sen2)/max(len(sen1),len(sen2))"
   ]
  },
  {
   "cell_type": "code",
   "execution_count": 81,
   "metadata": {},
   "outputs": [],
   "source": [
    "botjc.append(jeccard(b1,b2))\r\n",
    "botlc.append(levendis(b1,b2))"
   ]
  },
  {
   "cell_type": "code",
   "execution_count": 82,
   "metadata": {},
   "outputs": [],
   "source": [
    "b1 = message[0][1]\r\n",
    "b2 = message[1][1]\r\n",
    "\r\n",
    "botjc.append(jeccard(b1,b2))\r\n",
    "botlc.append(levendis(b1,b2))"
   ]
  },
  {
   "cell_type": "code",
   "execution_count": 83,
   "metadata": {},
   "outputs": [
    {
     "data": {
      "text/plain": "[0.31999999999999995, 0.46153846153846156]"
     },
     "execution_count": 83,
     "metadata": {},
     "output_type": "execute_result"
    }
   ],
   "source": [
    "botjc"
   ]
  },
  {
   "cell_type": "code",
   "execution_count": 84,
   "metadata": {},
   "outputs": [
    {
     "data": {
      "text/plain": "[0.0125, 0.049019607843137254]"
     },
     "execution_count": 84,
     "metadata": {},
     "output_type": "execute_result"
    }
   ],
   "source": [
    "botlc"
   ]
  },
  {
   "cell_type": "code",
   "execution_count": 85,
   "metadata": {},
   "outputs": [],
   "source": [
    "name2 = []\r\n",
    "message2 = []"
   ]
  },
  {
   "cell_type": "code",
   "execution_count": 86,
   "metadata": {},
   "outputs": [],
   "source": [
    "with o.execute_sql('select distinct push_commits_name,push_commits_message from ods_github_log where repo_name = \\'dependabot/fetch-metadata\\' and pt == \\'20210801\\'').open_reader(tunnel = True) as reader:\r\n",
    "    for record in reader:\r\n",
    "        name2.append(record[0])\r\n",
    "        message2.append(record[1])"
   ]
  },
  {
   "cell_type": "code",
   "execution_count": 87,
   "metadata": {},
   "outputs": [],
   "source": [
    "name2 = [x for x in name2 if x]\r\n",
    "message2 = [x for x in message2 if x]\r\n"
   ]
  },
  {
   "cell_type": "code",
   "execution_count": 88,
   "metadata": {},
   "outputs": [
    {
     "data": {
      "text/plain": "[['Barry Gordon'],\n ['Barry Gordon', 'Barry Gordon'],\n ['dependabot[bot]'],\n ['dependabot[bot]', 'Barry Gordon', 'github-actions[bot]'],\n ['dependabot[bot]',\n  'dependabot[bot]',\n  'github-actions[bot]',\n  'github-actions[bot]',\n  'dependabot[bot]'],\n ['dependabot[bot]',\n  'dependabot[bot]',\n  'github-actions[bot]',\n  'github-actions[bot]',\n  'dependabot[bot]'],\n ['dependabot[bot]',\n  'dependabot[bot]',\n  'github-actions[bot]',\n  'github-actions[bot]',\n  'dependabot[bot]',\n  'github-actions[bot]',\n  'dependabot[bot]'],\n ['dependabot[bot]',\n  'dependabot[bot]',\n  'github-actions[bot]',\n  'github-actions[bot]',\n  'dependabot[bot]',\n  'github-actions[bot]',\n  'dependabot[bot]'],\n ['dependabot[bot]', 'github-actions[bot]'],\n ['dependabot[bot]', 'github-actions[bot]'],\n ['dependabot[bot]', 'github-actions[bot]'],\n ['dependabot[bot]', 'github-actions[bot]'],\n ['dependabot[bot]', 'github-actions[bot]'],\n ['dependabot[bot]', 'github-actions[bot]'],\n ['dependabot[bot]', 'github-actions[bot]'],\n ['dependabot[bot]', 'github-actions[bot]', 'dependabot[bot]'],\n ['dependabot[bot]', 'github-actions[bot]', 'dependabot[bot]'],\n ['dependabot[bot]', 'github-actions[bot]', 'dependabot[bot]'],\n ['dependabot[bot]',\n  'github-actions[bot]',\n  'dependabot[bot]',\n  'dependabot[bot]',\n  'github-actions[bot]',\n  'github-actions[bot]',\n  'dependabot[bot]'],\n ['dependabot[bot]',\n  'github-actions[bot]',\n  'dependabot[bot]',\n  'dependabot[bot]',\n  'github-actions[bot]',\n  'github-actions[bot]',\n  'dependabot[bot]'],\n ['dependabot[bot]',\n  'github-actions[bot]',\n  'dependabot[bot]',\n  'dependabot[bot]',\n  'github-actions[bot]',\n  'github-actions[bot]',\n  'dependabot[bot]'],\n ['dependabot[bot]',\n  'github-actions[bot]',\n  'dependabot[bot]',\n  'github-actions[bot]',\n  'dependabot[bot]'],\n ['dependabot[bot]',\n  'github-actions[bot]',\n  'dependabot[bot]',\n  'github-actions[bot]',\n  'dependabot[bot]'],\n ['dependabot[bot]',\n  'github-actions[bot]',\n  'dependabot[bot]',\n  'github-actions[bot]',\n  'dependabot[bot]',\n  'github-actions[bot]',\n  'dependabot[bot]'],\n ['dependabot[bot]',\n  'github-actions[bot]',\n  'dependabot[bot]',\n  'github-actions[bot]',\n  'dependabot[bot]',\n  'github-actions[bot]',\n  'dependabot[bot]',\n  'github-actions[bot]',\n  'dependabot[bot]']]"
     },
     "execution_count": 88,
     "metadata": {},
     "output_type": "execute_result"
    }
   ],
   "source": [
    "name2"
   ]
  },
  {
   "cell_type": "code",
   "execution_count": 89,
   "metadata": {},
   "outputs": [],
   "source": [
    "bot1m = []\r\n",
    "bot2m = []"
   ]
  },
  {
   "cell_type": "code",
   "execution_count": 90,
   "metadata": {},
   "outputs": [],
   "source": [
    "for i in range(len(name2)):\r\n",
    "    for j in range(len(name2[i])):\r\n",
    "        if(name2[i][j]=='dependabot[bot]'):\r\n",
    "            bot1m.append(message2[i][j])\r\n",
    "        if(name2[i][j]=='github-actions[bot]'):\r\n",
    "            bot2m.append(message2[i][j])"
   ]
  },
  {
   "cell_type": "code",
   "execution_count": 91,
   "metadata": {},
   "outputs": [],
   "source": [
    "for i in range(len(bot1m)):\r\n",
    "    for j in range(i+1,len(bot1m)):\r\n",
    "        sen1 = bot1m[i]\r\n",
    "        sen2 = bot1m[j]\r\n",
    "        botjc.append(jeccard(sen1,sen2))\r\n",
    "        botlc.append(levendis(sen1,sen2))  "
   ]
  },
  {
   "cell_type": "code",
   "execution_count": 106,
   "metadata": {},
   "outputs": [],
   "source": [
    "for i in range(len(bot2m)):\r\n",
    "    for j in range(i+1,len(bot2m)):\r\n",
    "        sen1 = bot2m[i]\r\n",
    "        sen2 = bot2m[j]\r\n",
    "        botjc.append(jeccard(sen1,sen2))\r\n",
    "        botlc.append(levendis(sen1,sen2)) "
   ]
  },
  {
   "cell_type": "code",
   "execution_count": 111,
   "metadata": {},
   "outputs": [],
   "source": [
    "name3 = []\r\n",
    "message3 = []"
   ]
  },
  {
   "cell_type": "code",
   "execution_count": 112,
   "metadata": {},
   "outputs": [],
   "source": [
    "with o.execute_sql('select distinct push_commits_name,push_commits_message from ods_github_log where repo_name = \\'Chia-Network/chia-blockchain\\' and pt == \\'20211101\\'').open_reader(tunnel = True) as reader:\r\n",
    "    for record in reader:\r\n",
    "        name3.append(record[0])\r\n",
    "        message3.append(record[1])"
   ]
  },
  {
   "cell_type": "code",
   "execution_count": 121,
   "metadata": {},
   "outputs": [],
   "source": [
    "for i in range(len(message3[-2])):\r\n",
    "    for j in range(i+1,len(message3[-2])):\r\n",
    "        sen1 = message3[-2][i]\r\n",
    "        sen2 = message3[-2][j]\r\n",
    "        humanjc.append(jeccard(sen1,sen2))\r\n",
    "        humanlc.append(levendis(sen1,sen2))  "
   ]
  },
  {
   "cell_type": "code",
   "execution_count": 123,
   "metadata": {},
   "outputs": [
    {
     "data": {
      "image/png": "[encoded data removed]",
      "text/plain": "<Figure size 432x288 with 1 Axes>"
     },
     "metadata": {
      "needs_background": "light"
     },
     "output_type": "display_data"
    }
   ],
   "source": [
    "import matplotlib.pyplot as plt\r\n",
    "plt.scatter(botjc,botlc)\r\n",
    "plt.scatter(humanjc,humanlc)\r\n",
    "plt.show()"
   ]
  },
  {
   "cell_type": "markdown",
   "metadata": {},
   "source": [
    "## 应该计算的是每个机器人、人类的平均的Levenshtein-distance和jeccard-distance值，现在只是粗略统计，采用的是一到两个机器人、人类的多个Ld,jd值，所以图会略有偏差。\r\n",
    "## 后续可以继续改进"
   ]
  },
  {
   "cell_type": "code",
   "execution_count": 5,
   "metadata": {},
   "outputs": [],
   "source": [
    "choosebot = []\r\n",
    "choosecm = []"
   ]
  },
  {
   "cell_type": "code",
   "execution_count": 6,
   "metadata": {},
   "outputs": [],
   "source": [
    "with o.execute_sql('select distinct push_commits_name,push_commits_message from ods_github_log where pt >= \\'20210101\\' and pt <= \\'20211201\\' limit 1000000').open_reader(tunnel = True) as reader:\r\n",
    "    for record in reader:\r\n",
    "        choosebot.append(record[0])\r\n",
    "        choosecm.append(record[1])"
   ]
  },
  {
   "cell_type": "code",
   "execution_count": 7,
   "metadata": {},
   "outputs": [
    {
     "data": {
      "text/plain": "1000000"
     },
     "execution_count": 7,
     "metadata": {},
     "output_type": "execute_result"
    }
   ],
   "source": [
    "len(choosebot)"
   ]
  },
  {
   "cell_type": "code",
   "execution_count": 7,
   "metadata": {},
   "outputs": [],
   "source": [
    "botlist = []\r\n",
    "botcomm = []\r\n",
    "humanli = []\r\n",
    "humancomm = []"
   ]
  },
  {
   "cell_type": "code",
   "execution_count": 8,
   "metadata": {},
   "outputs": [],
   "source": [
    "import re\r\n",
    "\r\n",
    "for i in range(len(choosebot)):\r\n",
    "    for j in range(len(choosebot[i])):\r\n",
    "        if(re.search('bot',str(choosebot[i][j]))):\r\n",
    "            botlist.append(choosebot[i][j])\r\n",
    "            botcomm.append(choosecm[i][j])\r\n",
    "        else:\r\n",
    "            humanli.append(choosebot[i][j])\r\n",
    "            humancomm.append(choosecm[i][j])"
   ]
  },
  {
   "cell_type": "code",
   "execution_count": 9,
   "metadata": {},
   "outputs": [],
   "source": [
    "boli = set(botlist)\r\n",
    "huli = set(humanli)"
   ]
  },
  {
   "cell_type": "code",
   "execution_count": 10,
   "metadata": {},
   "outputs": [],
   "source": [
    "bojdis = []\r\n",
    "boldis = []\r\n",
    "countli = []\r\n",
    "maxdis = 0\r\n",
    "\r\n",
    "for bot in boli:\r\n",
    "    jcdis = 0.0\r\n",
    "    lcdis = 0.0\r\n",
    "    count = 0\r\n",
    "    mess = []\r\n",
    "    for i in range(len(botlist)):\r\n",
    "        if(bot == str(botlist[i])):\r\n",
    "            mess.append(botcomm[i])\r\n",
    "\r\n",
    "    if(len(mess)>10):\r\n",
    "        for m in range(len(mess)):\r\n",
    "            for n in range(m+1,len(mess)):\r\n",
    "                sen1 = mess[m]\r\n",
    "                sen2 = mess[n]\r\n",
    "                if(sen1 and sen2):\r\n",
    "                    count += 1\r\n",
    "                    jcdis += jeccard(sen1,sen2)\r\n",
    "                    lcdis += levendis(sen1,sen2)\r\n",
    "        if(jcdis > maxdis):\r\n",
    "            maxdis = jcdis\r\n",
    "            maxid = bot\r\n",
    "        bojdis.append(jcdis/count)\r\n",
    "        boldis.append(lcdis/count)\r\n",
    "\r\n",
    "    countli.append(len(mess))\r\n",
    "    "
   ]
  },
  {
   "cell_type": "code",
   "execution_count": 11,
   "metadata": {},
   "outputs": [],
   "source": [
    "hujdis = []\r\n",
    "huldis = []\r\n",
    "countli2 = []\r\n",
    "\r\n",
    "for human in huli:\r\n",
    "    jcdis = 0.0\r\n",
    "    lcdis = 0.0\r\n",
    "    count = 0\r\n",
    "    mess = []\r\n",
    "    for i in range(int(len(humanli)/100)):\r\n",
    "        if(human == str(humanli[i])):\r\n",
    "            mess.append(humancomm[i])\r\n",
    "\r\n",
    "    if(len(mess)>10):\r\n",
    "        for m in range(len(mess)):\r\n",
    "            for n in range(m+1,len(mess)):\r\n",
    "                sen1 = mess[m]\r\n",
    "                sen2 = mess[n]\r\n",
    "                if(sen1 and sen2):\r\n",
    "                    count += 1\r\n",
    "                    jcdis += jeccard(sen1,sen2)\r\n",
    "                    lcdis += levendis(sen1,sen2)\r\n",
    "    \r\n",
    "        hujdis.append(jcdis/count)\r\n",
    "        huldis.append(lcdis/count)\r\n",
    "\r\n",
    "    countli2.append(len(mess))\r\n",
    "    "
   ]
  },
  {
   "cell_type": "code",
   "execution_count": 29,
   "metadata": {},
   "outputs": [
    {
     "data": {
      "text/plain": "1024"
     },
     "execution_count": 29,
     "metadata": {},
     "output_type": "execute_result"
    }
   ],
   "source": [
    "len(boli)"
   ]
  },
  {
   "cell_type": "code",
   "execution_count": 30,
   "metadata": {},
   "outputs": [],
   "source": [
    "import pandas as pd\r\n",
    "\r\n",
    "data = {'jeccard_d' : bojdis , 'lev_d' : boldis , 'type' : [1 for i in range(len(boldis))]}\r\n",
    "\r\n",
    "df = pd.DataFrame(data)\r\n"
   ]
  },
  {
   "cell_type": "code",
   "execution_count": 31,
   "metadata": {},
   "outputs": [
    {
     "data": {
      "text/html": "<div>\n<style scoped>\n    .dataframe tbody tr th:only-of-type {\n        vertical-align: middle;\n    }\n\n    .dataframe tbody tr th {\n        vertical-align: top;\n    }\n\n    .dataframe thead th {\n        text-align: right;\n    }\n</style>\n<table border=\"1\" class=\"dataframe\">\n  <thead>\n    <tr style=\"text-align: right;\">\n      <th></th>\n      <th>jeccard_d</th>\n      <th>lev_d</th>\n      <th>type</th>\n    </tr>\n  </thead>\n  <tbody>\n    <tr>\n      <th>0</th>\n      <td>0.837642</td>\n      <td>0.714678</td>\n      <td>1</td>\n    </tr>\n    <tr>\n      <th>1</th>\n      <td>0.868773</td>\n      <td>0.751657</td>\n      <td>1</td>\n    </tr>\n    <tr>\n      <th>2</th>\n      <td>0.400000</td>\n      <td>0.120745</td>\n      <td>1</td>\n    </tr>\n    <tr>\n      <th>3</th>\n      <td>0.898480</td>\n      <td>0.719943</td>\n      <td>1</td>\n    </tr>\n    <tr>\n      <th>4</th>\n      <td>0.656785</td>\n      <td>0.424225</td>\n      <td>1</td>\n    </tr>\n    <tr>\n      <th>...</th>\n      <td>...</td>\n      <td>...</td>\n      <td>...</td>\n    </tr>\n    <tr>\n      <th>132</th>\n      <td>0.333333</td>\n      <td>0.515904</td>\n      <td>0</td>\n    </tr>\n    <tr>\n      <th>133</th>\n      <td>0.769092</td>\n      <td>0.317105</td>\n      <td>0</td>\n    </tr>\n    <tr>\n      <th>134</th>\n      <td>0.794367</td>\n      <td>0.292801</td>\n      <td>0</td>\n    </tr>\n    <tr>\n      <th>135</th>\n      <td>0.917949</td>\n      <td>0.840771</td>\n      <td>0</td>\n    </tr>\n    <tr>\n      <th>136</th>\n      <td>0.973786</td>\n      <td>0.802656</td>\n      <td>0</td>\n    </tr>\n  </tbody>\n</table>\n<p>269 rows × 3 columns</p>\n</div>",
      "text/plain": "     jeccard_d     lev_d  type\n0     0.837642  0.714678     1\n1     0.868773  0.751657     1\n2     0.400000  0.120745     1\n3     0.898480  0.719943     1\n4     0.656785  0.424225     1\n..         ...       ...   ...\n132   0.333333  0.515904     0\n133   0.769092  0.317105     0\n134   0.794367  0.292801     0\n135   0.917949  0.840771     0\n136   0.973786  0.802656     0\n\n[269 rows x 3 columns]"
     },
     "execution_count": 31,
     "metadata": {},
     "output_type": "execute_result"
    }
   ],
   "source": [
    "data2 = {'jeccard_d' : hujdis , 'lev_d' : huldis , 'type' : [0 for i in range(len(huldis))]}\r\n",
    "\r\n",
    "df2 = pd.DataFrame(data2)\r\n",
    "\r\n",
    "df = df.append(df2)\r\n",
    "\r\n",
    "df"
   ]
  },
  {
   "cell_type": "code",
   "execution_count": 32,
   "metadata": {},
   "outputs": [],
   "source": [
    "df.to_csv('train.csv',index = False)"
   ]
  },
  {
   "cell_type": "code",
   "execution_count": 16,
   "metadata": {},
   "outputs": [
    {
     "data": {
      "text/plain": "'dependabot[bot]'"
     },
     "execution_count": 16,
     "metadata": {},
     "output_type": "execute_result"
    }
   ],
   "source": [
    "maxid"
   ]
  },
  {
   "cell_type": "code",
   "execution_count": 18,
   "metadata": {},
   "outputs": [
    {
     "data": {
      "image/png": "[encoded data removed]",
      "text/plain": "<Figure size 432x288 with 1 Axes>"
     },
     "metadata": {
      "needs_background": "light"
     },
     "output_type": "display_data"
    }
   ],
   "source": [
    "import matplotlib.pyplot as plt\r\n",
    "plt.scatter(bojdis,boldis) \r\n",
    "plt.scatter(hujdis,huldis)\r\n",
    "plt.show()"
   ]
  },
  {
   "cell_type": "code",
   "execution_count": 1,
   "metadata": {},
   "outputs": [
    {
     "data": {
      "text/html": "<div>\n<style scoped>\n    .dataframe tbody tr th:only-of-type {\n        vertical-align: middle;\n    }\n\n    .dataframe tbody tr th {\n        vertical-align: top;\n    }\n\n    .dataframe thead th {\n        text-align: right;\n    }\n</style>\n<table border=\"1\" class=\"dataframe\">\n  <thead>\n    <tr style=\"text-align: right;\">\n      <th></th>\n      <th>jeccard_d</th>\n      <th>lev_d</th>\n      <th>type</th>\n    </tr>\n  </thead>\n  <tbody>\n    <tr>\n      <th>0</th>\n      <td>0.837642</td>\n      <td>0.714678</td>\n      <td>1</td>\n    </tr>\n    <tr>\n      <th>1</th>\n      <td>0.868773</td>\n      <td>0.751657</td>\n      <td>1</td>\n    </tr>\n    <tr>\n      <th>2</th>\n      <td>0.400000</td>\n      <td>0.120745</td>\n      <td>1</td>\n    </tr>\n    <tr>\n      <th>3</th>\n      <td>0.898480</td>\n      <td>0.719943</td>\n      <td>1</td>\n    </tr>\n    <tr>\n      <th>4</th>\n      <td>0.656785</td>\n      <td>0.424225</td>\n      <td>1</td>\n    </tr>\n    <tr>\n      <th>...</th>\n      <td>...</td>\n      <td>...</td>\n      <td>...</td>\n    </tr>\n    <tr>\n      <th>127</th>\n      <td>0.522876</td>\n      <td>0.279197</td>\n      <td>1</td>\n    </tr>\n    <tr>\n      <th>128</th>\n      <td>0.911885</td>\n      <td>0.733533</td>\n      <td>1</td>\n    </tr>\n    <tr>\n      <th>129</th>\n      <td>0.853984</td>\n      <td>0.753310</td>\n      <td>1</td>\n    </tr>\n    <tr>\n      <th>130</th>\n      <td>0.909066</td>\n      <td>0.783655</td>\n      <td>1</td>\n    </tr>\n    <tr>\n      <th>131</th>\n      <td>0.751760</td>\n      <td>0.370748</td>\n      <td>1</td>\n    </tr>\n  </tbody>\n</table>\n<p>132 rows × 3 columns</p>\n</div>",
      "text/plain": "     jeccard_d     lev_d  type\n0     0.837642  0.714678     1\n1     0.868773  0.751657     1\n2     0.400000  0.120745     1\n3     0.898480  0.719943     1\n4     0.656785  0.424225     1\n..         ...       ...   ...\n127   0.522876  0.279197     1\n128   0.911885  0.733533     1\n129   0.853984  0.753310     1\n130   0.909066  0.783655     1\n131   0.751760  0.370748     1\n\n[132 rows x 3 columns]"
     },
     "execution_count": 1,
     "metadata": {},
     "output_type": "execute_result"
    }
   ],
   "source": [
    "#1 : bot  0: human\r\n",
    "\r\n",
    "import pandas as pd\r\n",
    "\r\n",
    "df = pd.read_csv('train.csv')\r\n",
    "\r\n",
    "dfb = df.head(132)\r\n",
    "\r\n",
    "dfb"
   ]
  },
  {
   "cell_type": "code",
   "execution_count": 2,
   "metadata": {},
   "outputs": [
    {
     "data": {
      "text/html": "<div>\n<style scoped>\n    .dataframe tbody tr th:only-of-type {\n        vertical-align: middle;\n    }\n\n    .dataframe tbody tr th {\n        vertical-align: top;\n    }\n\n    .dataframe thead th {\n        text-align: right;\n    }\n</style>\n<table border=\"1\" class=\"dataframe\">\n  <thead>\n    <tr style=\"text-align: right;\">\n      <th></th>\n      <th>jeccard_d</th>\n      <th>lev_d</th>\n      <th>type</th>\n    </tr>\n  </thead>\n  <tbody>\n    <tr>\n      <th>132</th>\n      <td>0.483136</td>\n      <td>0.236906</td>\n      <td>0</td>\n    </tr>\n    <tr>\n      <th>133</th>\n      <td>0.829716</td>\n      <td>0.681390</td>\n      <td>0</td>\n    </tr>\n    <tr>\n      <th>134</th>\n      <td>0.929315</td>\n      <td>0.721494</td>\n      <td>0</td>\n    </tr>\n    <tr>\n      <th>135</th>\n      <td>0.879048</td>\n      <td>0.752189</td>\n      <td>0</td>\n    </tr>\n    <tr>\n      <th>136</th>\n      <td>0.955813</td>\n      <td>0.771774</td>\n      <td>0</td>\n    </tr>\n    <tr>\n      <th>...</th>\n      <td>...</td>\n      <td>...</td>\n      <td>...</td>\n    </tr>\n    <tr>\n      <th>264</th>\n      <td>0.333333</td>\n      <td>0.515904</td>\n      <td>0</td>\n    </tr>\n    <tr>\n      <th>265</th>\n      <td>0.769092</td>\n      <td>0.317105</td>\n      <td>0</td>\n    </tr>\n    <tr>\n      <th>266</th>\n      <td>0.794367</td>\n      <td>0.292801</td>\n      <td>0</td>\n    </tr>\n    <tr>\n      <th>267</th>\n      <td>0.917949</td>\n      <td>0.840771</td>\n      <td>0</td>\n    </tr>\n    <tr>\n      <th>268</th>\n      <td>0.973786</td>\n      <td>0.802656</td>\n      <td>0</td>\n    </tr>\n  </tbody>\n</table>\n<p>137 rows × 3 columns</p>\n</div>",
      "text/plain": "     jeccard_d     lev_d  type\n132   0.483136  0.236906     0\n133   0.829716  0.681390     0\n134   0.929315  0.721494     0\n135   0.879048  0.752189     0\n136   0.955813  0.771774     0\n..         ...       ...   ...\n264   0.333333  0.515904     0\n265   0.769092  0.317105     0\n266   0.794367  0.292801     0\n267   0.917949  0.840771     0\n268   0.973786  0.802656     0\n\n[137 rows x 3 columns]"
     },
     "execution_count": 2,
     "metadata": {},
     "output_type": "execute_result"
    }
   ],
   "source": [
    "dfb2 = df.tail(137)\r\n",
    "\r\n",
    "dfb2"
   ]
  },
  {
   "cell_type": "code",
   "execution_count": 3,
   "metadata": {},
   "outputs": [],
   "source": [
    "boj = dfb['jeccard_d'].tolist()\r\n",
    "\r\n",
    "bol = dfb['lev_d'].tolist()\r\n",
    "\r\n",
    "huj = dfb2['jeccard_d'].tolist()\r\n",
    "\r\n",
    "hul = dfb2['lev_d'].tolist()"
   ]
  },
  {
   "cell_type": "code",
   "execution_count": 14,
   "metadata": {},
   "outputs": [
    {
     "name": "stdout",
     "output_type": "stream",
     "text": [
      "bigger at point (0.50,0.50),botper = 0.136,huper = 0.036\n",
      "bigger at point (0.50,0.60),botper = 0.144,huper = 0.044\n",
      "bigger at point (0.50,0.65),botper = 0.144,huper = 0.044\n",
      "bigger at point (0.50,0.70),botper = 0.144,huper = 0.044\n",
      "bigger at point (0.50,0.75),botper = 0.144,huper = 0.044\n",
      "bigger at point (0.50,0.80),botper = 0.144,huper = 0.044\n",
      "bigger at point (0.60,0.50),botper = 0.182,huper = 0.073\n",
      "bigger at point (0.60,0.60),botper = 0.212,huper = 0.080\n",
      "bigger at point (0.60,0.65),botper = 0.212,huper = 0.080\n",
      "bigger at point (0.60,0.70),botper = 0.212,huper = 0.109\n",
      "bigger at point (0.60,0.75),botper = 0.212,huper = 0.109\n",
      "bigger at point (0.60,0.80),botper = 0.212,huper = 0.109\n",
      "bigger at point (0.65,0.50),botper = 0.242,huper = 0.073\n",
      "bigger at point (0.65,0.60),botper = 0.273,huper = 0.080\n",
      "bigger at point (0.65,0.65),botper = 0.273,huper = 0.080\n",
      "bigger at point (0.65,0.70),botper = 0.273,huper = 0.109\n",
      "bigger at point (0.65,0.75),botper = 0.273,huper = 0.124\n",
      "bigger at point (0.65,0.80),botper = 0.273,huper = 0.124\n",
      "bigger at point (0.70,0.50),botper = 0.273,huper = 0.073\n",
      "bigger at point (0.70,0.60),botper = 0.326,huper = 0.088\n",
      "bigger at point (0.70,0.65),botper = 0.326,huper = 0.088\n",
      "bigger at point (0.70,0.70),botper = 0.333,huper = 0.117\n",
      "bigger at point (0.70,0.75),botper = 0.333,huper = 0.131\n",
      "bigger at point (0.70,0.80),botper = 0.333,huper = 0.131\n",
      "bigger at point (0.75,0.50),botper = 0.273,huper = 0.088\n",
      "bigger at point (0.75,0.60),botper = 0.341,huper = 0.102\n",
      "bigger at point (0.75,0.65),botper = 0.364,huper = 0.102\n",
      "bigger at point (0.75,0.70),botper = 0.379,huper = 0.131\n",
      "bigger at point (0.75,0.75),botper = 0.379,huper = 0.146\n",
      "bigger at point (0.75,0.80),botper = 0.379,huper = 0.146\n",
      "bigger at point (0.80,0.50),botper = 0.295,huper = 0.109\n",
      "bigger at point (0.80,0.60),botper = 0.394,huper = 0.124\n",
      "bigger at point (0.80,0.65),botper = 0.477,huper = 0.139\n",
      "bigger at point (0.80,0.70),botper = 0.530,huper = 0.168\n",
      "bigger at point (0.80,0.75),botper = 0.530,huper = 0.182\n",
      "bigger at point (0.80,0.80),botper = 0.530,huper = 0.190\n"
     ]
    }
   ],
   "source": [
    "testj = [0.5,0.6,0.65,0.7,0.75,0.8]\r\n",
    "testl = [0.5,0.6,0.65,0.7,0.75,0.8]\r\n",
    "bp = []\r\n",
    "hp = []\r\n",
    "\r\n",
    "for jec in testj:\r\n",
    "    for le in testl:\r\n",
    "        countbo = 0\r\n",
    "        counthu = 0\r\n",
    "        for i in range(len(boj)):\r\n",
    "            if(boj[i] < jec and bol[i] < le):\r\n",
    "               countbo += 1\r\n",
    "        for i in range(len(huj)):\r\n",
    "            if(huj[i] < jec and hul[i] < le):\r\n",
    "               counthu += 1\r\n",
    "        bp.append(countbo/len(boj))\r\n",
    "        hp.append(counthu/len(huj))\r\n",
    "        print(\"bigger at point (%.2f,%.2f),botper = %.3f,huper = %.3f\"%(jec,le,countbo/len(boj),counthu/len(huj)))"
   ]
  },
  {
   "cell_type": "code",
   "execution_count": 15,
   "metadata": {},
   "outputs": [
    {
     "data": {
      "image/png": "[encoded data removed]",
      "text/plain": "<Figure size 432x288 with 1 Axes>"
     },
     "metadata": {
      "needs_background": "light"
     },
     "output_type": "display_data"
    }
   ],
   "source": [
    "import matplotlib.pyplot as plt\r\n",
    "plt.scatter(bp,hp)\r\n",
    "plt.show()"
   ]
  },
  {
   "cell_type": "code",
   "execution_count": 16,
   "metadata": {},
   "outputs": [
    {
     "name": "stdout",
     "output_type": "stream",
     "text": [
      "0.1678832116788321 0.5303030303030303 0.24880001610611563\n"
     ]
    }
   ],
   "source": [
    "mind = 1000\r\n",
    "mh = 0\r\n",
    "mb = 0\r\n",
    "for i in range(len(hp)):\r\n",
    "    ans = hp[i]**2 + (1-bp[i])**2\r\n",
    "    if(ans < mind):\r\n",
    "       mind = ans\r\n",
    "       mh = hp[i]\r\n",
    "       mb = bp[i]\r\n",
    "\r\n",
    "print(mh,mb,mind)"
   ]
  },
  {
   "cell_type": "code",
   "execution_count": 14,
   "metadata": {},
   "outputs": [
    {
     "data": {
      "image/png": "[encoded data removed]",
      "text/plain": "<Figure size 432x288 with 1 Axes>"
     },
     "metadata": {
      "needs_background": "light"
     },
     "output_type": "display_data"
    }
   ],
   "source": [
    "x = [i for i in range(len(countli))]\r\n",
    "plt.scatter(x,countli)\r\n",
    "plt.show() "
   ]
  },
  {
   "cell_type": "code",
   "execution_count": 19,
   "metadata": {},
   "outputs": [
    {
     "data": {
      "image/png": "[encoded data removed]",
      "text/plain": "<Figure size 432x288 with 1 Axes>"
     },
     "metadata": {
      "needs_background": "light"
     },
     "output_type": "display_data"
    }
   ],
   "source": [
    "x = [i for i in range(len(countli2))]\r\n",
    "plt.scatter(x,countli2)\r\n",
    "plt.show() "
   ]
  },
  {
   "cell_type": "code",
   "execution_count": 33,
   "metadata": {},
   "outputs": [
    {
     "name": "stdout",
     "output_type": "stream",
     "text": [
      "21.231060606060606\n"
     ]
    }
   ],
   "source": [
    "print(sum(countli)/len(countli))"
   ]
  },
  {
   "cell_type": "code",
   "execution_count": 36,
   "metadata": {},
   "outputs": [
    {
     "name": "stdout",
     "output_type": "stream",
     "text": [
      "0.9963985594237698\n"
     ]
    }
   ],
   "source": [
    "print(max(bojdis))"
   ]
  },
  {
   "cell_type": "code",
   "execution_count": 37,
   "metadata": {},
   "outputs": [
    {
     "name": "stdout",
     "output_type": "stream",
     "text": [
      "0.8487990716758957\n"
     ]
    }
   ],
   "source": [
    "print(max(boldis))"
   ]
  },
  {
   "cell_type": "code",
   "execution_count": 22,
   "metadata": {},
   "outputs": [],
   "source": [
    "fime = []\r\n",
    "mind = 100\r\n",
    "\r\n",
    "for human in huli:\r\n",
    "    jcdis = 0.0\r\n",
    "    lcdis = 0.0\r\n",
    "    count = 0\r\n",
    "    mess = []\r\n",
    "    for i in range(int(len(humanli)/100)):\r\n",
    "        if(human == str(humanli[i])):\r\n",
    "            mess.append(humancomm[i])\r\n",
    "\r\n",
    "    if(len(mess)>10):\r\n",
    "        for m in range(len(mess)):\r\n",
    "            for n in range(m+1,len(mess)):\r\n",
    "                sen1 = mess[m]\r\n",
    "                sen2 = mess[n]\r\n",
    "                if(sen1 and sen2):\r\n",
    "                    count += 1\r\n",
    "                    jcdis += jeccard(sen1,sen2)\r\n",
    "                    lcdis += levendis(sen1,sen2)\r\n",
    "        if(jcdis < mind):\r\n",
    "            mind = jcdis\r\n",
    "            minid = human\r\n",
    "            fime = mess\r\n",
    "    "
   ]
  },
  {
   "cell_type": "code",
   "execution_count": 24,
   "metadata": {},
   "outputs": [
    {
     "data": {
      "text/plain": "'18111003660'"
     },
     "execution_count": 24,
     "metadata": {},
     "output_type": "execute_result"
    }
   ],
   "source": [
    "minid"
   ]
  },
  {
   "cell_type": "code",
   "execution_count": 23,
   "metadata": {},
   "outputs": [
    {
     "data": {
      "text/plain": "[\"'autoCommit'\",\n \"'autoCommit'\",\n \"'autoCommit'\",\n \"'autoCommit'\",\n \"'autoCommit'\",\n \"'autoCommit'\",\n \"'autoCommit'\",\n \"'autoCommit'\",\n \"'autoCommit'\",\n \"'autoCommit'\",\n \"'autoCommit'\",\n \"'autoCommit'\",\n \"'autoCommit'\",\n \"'autoCommit'\",\n \"'autoCommit'\",\n \"'autoCommit'\",\n \"'autoCommit'\",\n \"'autoCommit'\",\n \"'autoCommit'\",\n \"'autoCommit'\"]"
     },
     "execution_count": 23,
     "metadata": {},
     "output_type": "execute_result"
    }
   ],
   "source": [
    "fime"
   ]
  },
  {
   "cell_type": "code",
   "execution_count": 25,
   "metadata": {},
   "outputs": [],
   "source": [
    "bodisli = []\r\n",
    "\r\n",
    "for i in range(len(bojdis)):\r\n",
    "    bodisli.append((bojdis[i] + boldis[i])/2)"
   ]
  },
  {
   "cell_type": "code",
   "execution_count": 27,
   "metadata": {},
   "outputs": [
    {
     "data": {
      "text/plain": "(1024, 132)"
     },
     "execution_count": 27,
     "metadata": {},
     "output_type": "execute_result"
    }
   ],
   "source": [
    "len(countli),len(bodisli)"
   ]
  },
  {
   "cell_type": "code",
   "execution_count": 33,
   "metadata": {},
   "outputs": [],
   "source": [
    "countlibo = []\r\n",
    "for i in range(len(countli)):\r\n",
    "    if(countli[i] > 10):\r\n",
    "        countlibo.append(countli[i])"
   ]
  },
  {
   "cell_type": "code",
   "execution_count": 34,
   "metadata": {},
   "outputs": [
    {
     "data": {
      "text/plain": "132"
     },
     "execution_count": 34,
     "metadata": {},
     "output_type": "execute_result"
    }
   ],
   "source": [
    "len(countlibo)"
   ]
  },
  {
   "cell_type": "code",
   "execution_count": 37,
   "metadata": {},
   "outputs": [],
   "source": [
    "repoid = []\r\n",
    "accid = []\r\n",
    "\r\n",
    "with o.execute_sql('select distinct repo_id,push_commits_name from ods_github_log where pt >= \\'20210101\\' and pt <= \\'20211201\\' limit 1000000').open_reader(tunnel = True) as reader:\r\n",
    "    for record in reader:\r\n",
    "        repoid.append(record[0])\r\n",
    "        accid.append(record[1])"
   ]
  },
  {
   "cell_type": "code",
   "execution_count": 58,
   "metadata": {},
   "outputs": [],
   "source": [
    "import re\r\n",
    "\r\n",
    "botname = []\r\n",
    "botcount = []\r\n",
    "\r\n",
    "for i in range(len(repoid)):\r\n",
    "    thisrepobot = []\r\n",
    "    for j in range(len(accid[i])):\r\n",
    "        if(re.search('bot',str(accid[i][j]))):\r\n",
    "            if(accid[i][j] not in thisrepobot):\r\n",
    "                thisrepobot.append(accid[i][j])\r\n",
    "                if(accid[i][j] not in botname):\r\n",
    "                    botname.append(accid[i][j])\r\n",
    "                    botcount.append(1)\r\n",
    "                else:\r\n",
    "                    inde = botname.index(accid[i][j])\r\n",
    "                    botcount[inde] +=1\r\n"
   ]
  },
  {
   "cell_type": "code",
   "execution_count": 59,
   "metadata": {},
   "outputs": [
    {
     "data": {
      "image/png": "[encoded data removed]",
      "text/plain": "<Figure size 432x288 with 1 Axes>"
     },
     "metadata": {
      "needs_background": "light"
     },
     "output_type": "display_data"
    }
   ],
   "source": [
    "cou = [i for i in range(len(botcount))]\r\n",
    "\r\n",
    "plt.scatter(cou,botcount)\r\n",
    "plt.show()"
   ]
  },
  {
   "cell_type": "code",
   "execution_count": 60,
   "metadata": {},
   "outputs": [],
   "source": [
    "i2 = botcount.index(max(botcount))\r\n",
    "bot2 = botcount.pop(i2)"
   ]
  },
  {
   "cell_type": "code",
   "execution_count": 61,
   "metadata": {},
   "outputs": [
    {
     "data": {
      "image/png": "[encoded data removed]",
      "text/plain": "<Figure size 432x288 with 1 Axes>"
     },
     "metadata": {
      "needs_background": "light"
     },
     "output_type": "display_data"
    }
   ],
   "source": [
    "cou = [i for i in range(len(botcount))]\r\n",
    "\r\n",
    "plt.scatter(cou,botcount)\r\n",
    "plt.show()"
   ]
  },
  {
   "cell_type": "code",
   "execution_count": 64,
   "metadata": {},
   "outputs": [
    {
     "data": {
      "image/png": "[encoded data removed]",
      "text/plain": "<Figure size 432x288 with 1 Axes>"
     },
     "metadata": {
      "needs_background": "light"
     },
     "output_type": "display_data"
    }
   ],
   "source": [
    "b2 = []\r\n",
    "\r\n",
    "for i in range(len(botcount)):\r\n",
    "    if(botcount[i] < 50):\r\n",
    "        b2.append(botcount[i])\r\n",
    "\r\n",
    "cou = [i for i in range(len(b2))]\r\n",
    "\r\n",
    "plt.scatter(cou,b2)\r\n",
    "plt.show()"
   ]
  },
  {
   "cell_type": "markdown",
   "metadata": {},
   "source": [
    "## 后续：使用分类器对用户进行分类或者对message进行分类，根据结果去判断是否为bot"
   ]
  },
  {
   "cell_type": "code",
   "execution_count": 17,
   "metadata": {},
   "outputs": [],
   "source": [
    "chooseid = []\r\n",
    "choosemes = []\r\n",
    "\r\n",
    "with o.execute_sql('select distinct push_commits_name,push_commits_message from ods_github_log where pt >= \\'20200101\\' and pt <= \\'20201201\\' limit 1000000').open_reader(tunnel = True) as reader:\r\n",
    "    for record in reader:\r\n",
    "        chooseid.append(record[0])\r\n",
    "        choosemes.append(record[1])"
   ]
  },
  {
   "cell_type": "code",
   "execution_count": 18,
   "metadata": {},
   "outputs": [],
   "source": [
    "idlist = []\r\n",
    "meslist = []\r\n",
    "\r\n",
    "for i in range(len(chooseid)):\r\n",
    "    for j in range(len(chooseid[i])):\r\n",
    "        idlist.append(chooseid[i][j])\r\n",
    "        meslist.append(choosemes[i][j])"
   ]
  },
  {
   "cell_type": "code",
   "execution_count": 19,
   "metadata": {},
   "outputs": [],
   "source": [
    "idset = set(idlist)"
   ]
  },
  {
   "cell_type": "code",
   "execution_count": 20,
   "metadata": {},
   "outputs": [
    {
     "data": {
      "text/plain": "1922846"
     },
     "execution_count": 20,
     "metadata": {},
     "output_type": "execute_result"
    }
   ],
   "source": [
    "len(idlist)"
   ]
  },
  {
   "cell_type": "code",
   "execution_count": 21,
   "metadata": {},
   "outputs": [],
   "source": [
    "thinkbot = []\r\n",
    "thinkhuman = []\r\n",
    "\r\n",
    "\r\n",
    "for idname in idset:\r\n",
    "    jcdis = 0.0\r\n",
    "    lcdis = 0.0\r\n",
    "    count = 0\r\n",
    "    mess = []\r\n",
    "    for i in range(int(len(idlist)/100)):\r\n",
    "        if(idname == str(idlist[i])):\r\n",
    "            mess.append(meslist[i])\r\n",
    "\r\n",
    "    if(len(mess)>10):\r\n",
    "        for m in range(len(mess)):\r\n",
    "            for n in range(m+1,len(mess)):\r\n",
    "                sen1 = mess[m]\r\n",
    "                sen2 = mess[n]\r\n",
    "                if(sen1 and sen2):\r\n",
    "                    count += 1\r\n",
    "                    jcdis += jeccard(sen1,sen2)\r\n",
    "                    lcdis += levendis(sen1,sen2)\r\n",
    "        if(jcdis/count < 0.8 and lcdis/count < 0.7):\r\n",
    "            thinkbot.append(idname)\r\n",
    "        else:\r\n",
    "            thinkhuman.append(idname)"
   ]
  },
  {
   "cell_type": "code",
   "execution_count": 22,
   "metadata": {},
   "outputs": [
    {
     "data": {
      "text/plain": "['',\n '223131',\n '(BOT) Akihiro Urushihara',\n '73katoshota',\n '9oelM',\n '@dhis2-bot',\n 'dependabot[bot]',\n 'dependabot-preview[bot]',\n 'lwhsu',\n '2649019045',\n '8',\n '5JM',\n 'sdk-team',\n '542869246@qq.com',\n '389093982',\n '137478244@qq.com',\n '19394',\n '2049honeypot',\n '0xBahamoot',\n '+',\n '25037',\n '7Loopy',\n 'GiteaBot',\n 'FreddySig',\n 'Minjae Lee',\n '1846689910']"
     },
     "execution_count": 22,
     "metadata": {},
     "output_type": "execute_result"
    }
   ],
   "source": [
    "thinkbot"
   ]
  },
  {
   "cell_type": "code",
   "execution_count": 23,
   "metadata": {},
   "outputs": [
    {
     "data": {
      "text/plain": "['0xflotus',\n '0xf8f8ff',\n '1346',\n '42',\n 'KhacTrieu',\n '4libutt',\n '201411096',\n 'A Holt',\n '0918nobita',\n '=',\n '123',\n 'jamespetts',\n '100pah',\n 'dapplion',\n 'DGJackson',\n '21w',\n '-k',\n '/alex/',\n '2ndyrGroupA',\n 'Renovate Bot',\n '503292',\n 'A-Salty-Fish',\n '4thel00z',\n '10yeony',\n 'A',\n '0xd4d',\n '4zk',\n '1ncontinentia',\n '3541',\n '27-Inoue-Yuki',\n '10sr',\n '--add',\n '5john',\n 'A248',\n '@slovacus',\n '1Consumption',\n 'Yair Morgenstern',\n '9Kbits',\n '@douglasabnovato',\n '030',\n '5maciek',\n '@qiwibot',\n '499895280@qq.com',\n 'Vu Pham',\n 'jmoenig',\n '0xmerman',\n '6543',\n '0xd34df00d',\n '李孟',\n '9by1q4wjhrcld2r4',\n '747-4EVER',\n 'A11riseforme',\n '周始昊',\n '106360130',\n '21700340JuwonBaek',\n '--Explosion--',\n '\\u202d哇哈哈',\n 'Stephen Barlow',\n '2jiwon',\n 'A. Unique TensorFlower',\n '-',\n '3d-gussner',\n '(K12 _ HCM) Trinh Tuan Tung',\n 'Istio Automation',\n '839',\n '5675sp',\n '781610166',\n '1',\n 'Paul Rosen',\n '3cidev',\n '598403',\n '80prozent',\n 'AA',\n '0xakk0r0kamui',\n 'ABDULAZIZ94',\n 'AAAlex-123',\n '131231-xiaogai',\n 'Thibault Martinez',\n 'A.Unger',\n '@wwwjim',\n 'A-Breeze',\n '23rd',\n '13xforever',\n 'kyo-git',\n 'A Groshek',\n '--global',\n '0sekto0',\n '13840272115',\n '12425',\n 'ABC',\n '93seungmi',\n '(Glory)',\n '32757468',\n '89luca89',\n 'A-312',\n '2betop',\n '05sahil',\n '1991768641',\n '7omasz8',\n 'Timothy Hobbs',\n '1002',\n 'A. Diamond',\n '0mp',\n '3xtr4t3rr3str14l',\n 'AAbdul12',\n '1024jp',\n '1maximsafronov',\n '2moe',\n '123aadina',\n '0xMilk',\n '233boy',\n 'AB',\n '22Alexandra',\n '06kellyjac',\n '--path',\n '19Maaka',\n 'Hameedullah Pardess',\n '3phase',\n '0ranko0P',\n '2giwon',\n '8go',\n '8Bts',\n '81Jeremiah']"
     },
     "execution_count": 23,
     "metadata": {},
     "output_type": "execute_result"
    }
   ],
   "source": [
    "thinkhuman"
   ]
  },
  {
   "cell_type": "code",
   "execution_count": 11,
   "metadata": {},
   "outputs": [],
   "source": [
    "f=open(\"thinkbot.txt\",\"w\")\r\n",
    "f.write(str(thinkbot))\r\n",
    "f.close()"
   ]
  },
  {
   "cell_type": "code",
   "execution_count": 13,
   "metadata": {},
   "outputs": [],
   "source": [
    "f=open(\"thinkhuman.txt\",\"w\",encoding='utf-8')\r\n",
    "f.write(str(thinkhuman))\r\n",
    "f.close()"
   ]
  },
  {
   "cell_type": "code",
   "execution_count": 17,
   "metadata": {},
   "outputs": [],
   "source": [
    "chooseid2 = []\r\n",
    "choosemes2 = []\r\n",
    "\r\n",
    "with o.execute_sql('select distinct push_commits_name,push_commits_message from ods_github_log where pt >= \\'20200101\\' and pt <= \\'20201201\\' limit 5000000').open_reader(tunnel = True) as reader:\r\n",
    "    for record in reader:\r\n",
    "        chooseid2.append(record[0])\r\n",
    "        choosemes2.append(record[1])"
   ]
  },
  {
   "cell_type": "code",
   "execution_count": 18,
   "metadata": {},
   "outputs": [],
   "source": [
    "idlist2 = []\r\n",
    "meslist2 = []\r\n",
    "\r\n",
    "for i in range(len(chooseid2)):\r\n",
    "    for j in range(len(chooseid2[i])):\r\n",
    "        idlist2.append(chooseid2[i][j])\r\n",
    "        meslist2.append(choosemes2[i][j])"
   ]
  },
  {
   "cell_type": "code",
   "execution_count": 19,
   "metadata": {},
   "outputs": [],
   "source": [
    "idset2 = set(idlist2)"
   ]
  },
  {
   "cell_type": "code",
   "execution_count": 20,
   "metadata": {},
   "outputs": [],
   "source": [
    "getrep = []\r\n",
    "getid = []\r\n",
    "ofid = []\r\n",
    "oid = []\r\n",
    "\r\n",
    "for i in range(len(choosemes2)):\r\n",
    "    if(len(choosemes2[i]) > 1):\r\n",
    "        thismeid = []\r\n",
    "        for j in range(len(choosemes2[i])):\r\n",
    "            for k in range(j+1,len(choosemes2[i])):\r\n",
    "                me1 = choosemes2[i][j]\r\n",
    "                me2 = choosemes2[i][k]\r\n",
    "                if(me1 and me2):\r\n",
    "                    jem = jeccard(me1,me2)\r\n",
    "                    lem = levendis(me1,me2)\r\n",
    "                    if(jem == 0 and lem == 0):\r\n",
    "                        id1 = chooseid2[i][j]\r\n",
    "                        id2 = chooseid2[i][k]\r\n",
    "                        if(id1 != id2):\r\n",
    "                            for p in range(len(getrep)):\r\n",
    "                                if(id1 in getrep[p]):\r\n",
    "                                    oid.append(id1)\r\n",
    "                                    ofid.append([id1,me1])\r\n",
    "                                if(id2 in getrep[p]):\r\n",
    "                                    oid.append(id2)\r\n",
    "                                    ofid.append([id2,me2])                                                   \r\n",
    "                            if(id1 not in thismeid):\r\n",
    "                                thismeid.append(id1)\r\n",
    "                            if(id2 not in thismeid):\r\n",
    "                                thismeid.append(id2)\r\n",
    "                            list2 = [id1,id2,me1]\r\n",
    "                            getid.append(list2)\r\n",
    "        if(thismeid):\r\n",
    "            getrep.append(thismeid)\r\n",
    "                   \r\n"
   ]
  },
  {
   "cell_type": "code",
   "execution_count": 21,
   "metadata": {},
   "outputs": [],
   "source": [
    "oid2 = set(oid)"
   ]
  },
  {
   "cell_type": "code",
   "execution_count": 22,
   "metadata": {},
   "outputs": [],
   "source": [
    "messall = []\r\n",
    "\r\n",
    "for id in oid2:\r\n",
    "    messlist = [id]\r\n",
    "    for i in range(len(ofid)):\r\n",
    "        if(ofid[i][0] == id):\r\n",
    "            messlist.append(ofid[i][1])\r\n",
    "    messall.append(messlist)"
   ]
  },
  {
   "cell_type": "code",
   "execution_count": 23,
   "metadata": {},
   "outputs": [],
   "source": [
    "jcd = []\r\n",
    "led = []\r\n",
    "\r\n",
    "for i in range(len(messall)):\r\n",
    "    if(len(messall[i])==2):\r\n",
    "        jcd.append(0)\r\n",
    "        led.append(0)\r\n",
    "    else:\r\n",
    "        count = 0\r\n",
    "        jcdis = 0\r\n",
    "        lcdis = 0\r\n",
    "        for m in range(1,len(messall[i])):\r\n",
    "                for n in range(m+1,len(messall[i])):\r\n",
    "                    sen1 = messall[i][m]\r\n",
    "                    sen2 = messall[i][n]\r\n",
    "                    if(sen1 and sen2):\r\n",
    "                        count += 1\r\n",
    "                        jcdis += jeccard(sen1,sen2)\r\n",
    "                        lcdis += levendis(sen1,sen2)\r\n",
    "        jcd.append(jcdis/count)\r\n",
    "        led.append(lcdis/count)\r\n",
    "                    "
   ]
  },
  {
   "cell_type": "code",
   "execution_count": 24,
   "metadata": {},
   "outputs": [
    {
     "data": {
      "text/plain": "2727"
     },
     "execution_count": 24,
     "metadata": {},
     "output_type": "execute_result"
    }
   ],
   "source": [
    "len(jcd)"
   ]
  },
  {
   "cell_type": "code",
   "execution_count": 25,
   "metadata": {},
   "outputs": [
    {
     "data": {
      "image/png": "[encoded data removed]",
      "text/plain": "<Figure size 432x288 with 1 Axes>"
     },
     "metadata": {
      "needs_background": "light"
     },
     "output_type": "display_data"
    }
   ],
   "source": [
    "import matplotlib.pyplot as plt\r\n",
    "\r\n",
    "plt.scatter(jcd,led)\r\n",
    "plt.show()"
   ]
  },
  {
   "cell_type": "code",
   "execution_count": 29,
   "metadata": {},
   "outputs": [],
   "source": [
    "indexlist = []\r\n",
    "\r\n",
    "for i in range(len(jcd)):\r\n",
    "    if(jcd[i]>0.7 and led[i]>0.7):\r\n",
    "        indexlist.append(i)"
   ]
  },
  {
   "cell_type": "code",
   "execution_count": 30,
   "metadata": {},
   "outputs": [
    {
     "data": {
      "text/plain": "[102, 645, 982, 1079, 1217, 1291, 1398, 1478, 2052, 2432, 2589, 2701, 2706]"
     },
     "execution_count": 30,
     "metadata": {},
     "output_type": "execute_result"
    }
   ],
   "source": [
    "indexlist"
   ]
  },
  {
   "cell_type": "code",
   "execution_count": 34,
   "metadata": {},
   "outputs": [
    {
     "name": "stdout",
     "output_type": "stream",
     "text": [
      "Brian Ross\n",
      "Thomas Schouten\n",
      "Animashaun Taofiq T\n",
      "testcafe-build-bot\n",
      "Andrey\n",
      "amanda\n",
      "urho3d-travis-ci\n",
      "Adam Smith\n",
      "Admin\n",
      "Al Viro\n",
      "Adam Soliev\n",
      "Brandon\n",
      "root\n"
     ]
    }
   ],
   "source": [
    "namneli = []\r\n",
    "\r\n",
    "for i in indexlist:\r\n",
    "    #if(len(messall[i])>5):\r\n",
    "        namneli.append(messall[i])\r\n",
    "        print(messall[i][0])"
   ]
  },
  {
   "cell_type": "code",
   "execution_count": 35,
   "metadata": {},
   "outputs": [],
   "source": [
    "f=open(\"findname.txt\",\"w\",encoding='utf-8')\r\n",
    "for line in namneli:  \r\n",
    "    f.write(str(line)+'\\n')\r\n",
    "f.close()"
   ]
  },
  {
   "cell_type": "markdown",
   "metadata": {},
   "source": [
    "## 确定为机器人： urho3d-travis-ci,testcafe-build-bot，root\r\n",
    "## 确定为human:   Animashaun Taofiq T，amanda，Al Viro，Adam Soliev，Brandon\r\n",
    "## 找寻不到的用户: Andrey，Admin\r\n",
    "## 不确定用户（难以判断，比如有多个匹配用户或非活跃用户等）：Brian Ross，Thomas Schouten，Adam Smith\r\n",
    "\r\n",
    "## 确定为human的特点：基本都是非常活跃的用户，所以会产生噪音使得该方法中可能会识别为robot"
   ]
  },
  {
   "cell_type": "code",
   "execution_count": 12,
   "metadata": {},
   "outputs": [],
   "source": [
    "for id in set(ofid):\r\n",
    "    if(id in thinkbot2):\r\n",
    "        print(id)"
   ]
  },
  {
   "cell_type": "code",
   "execution_count": 25,
   "metadata": {},
   "outputs": [],
   "source": [
    "f=open(\"findrepeat.txt\",\"w\",encoding='utf-8')\r\n",
    "for line in getid:  \r\n",
    "    f.write(str(line)+'\\n')\r\n",
    "f.close()"
   ]
  }
 ],
 "metadata": {
  "kernelspec": {
   "display_name": "Python 3.8.8 64-bit",
   "name": "python388jvsc74a57bd0a8f61be024eba58adef938c9aa1e29e02cb3dece83a5348b1a2dafd16a070453"
  },
  "language_info": {
   "name": "python",
   "version": ""
  },
  "orig_nbformat": 2
 },
 "nbformat": 4,
 "nbformat_minor": 2
}